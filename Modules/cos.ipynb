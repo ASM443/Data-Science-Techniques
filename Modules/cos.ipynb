{
 "cells": [
  {
   "attachments": {},
   "cell_type": "markdown",
   "metadata": {},
   "source": [
    "## Andrew Morris INST 414 "
   ]
  },
  {
   "cell_type": "code",
   "execution_count": 27,
   "metadata": {},
   "outputs": [],
   "source": [
    "# Imports\n",
    "import pandas as pd\n",
    "from sklearn.feature_extraction.text import TfidfVectorizer\n",
    "from sklearn.metrics.pairwise import cosine_similarity\n",
    "import chardet"
   ]
  },
  {
   "cell_type": "code",
   "execution_count": 30,
   "metadata": {},
   "outputs": [],
   "source": [
    "with open(\"glassdoor_comany.csv\", 'rb') as f:\n",
    "    result = chardet.detect(f.read())\n",
    "encoding = result['encoding']\n",
    "df = pd.read_csv(\"glassdoor_comany.csv\", encoding=encoding)"
   ]
  },
  {
   "cell_type": "code",
   "execution_count": 31,
   "metadata": {},
   "outputs": [
    {
     "data": {
      "text/html": [
       "<div>\n",
       "<style scoped>\n",
       "    .dataframe tbody tr th:only-of-type {\n",
       "        vertical-align: middle;\n",
       "    }\n",
       "\n",
       "    .dataframe tbody tr th {\n",
       "        vertical-align: top;\n",
       "    }\n",
       "\n",
       "    .dataframe thead th {\n",
       "        text-align: right;\n",
       "    }\n",
       "</style>\n",
       "<table border=\"1\" class=\"dataframe\">\n",
       "  <thead>\n",
       "    <tr style=\"text-align: right;\">\n",
       "      <th></th>\n",
       "      <th>Company Name</th>\n",
       "      <th>Company rating</th>\n",
       "      <th>Company reviews</th>\n",
       "      <th>Company salaries</th>\n",
       "      <th>Company Jobs</th>\n",
       "      <th>Location</th>\n",
       "      <th>Number of Employees</th>\n",
       "      <th>Industry Type</th>\n",
       "      <th>Company Description</th>\n",
       "    </tr>\n",
       "  </thead>\n",
       "  <tbody>\n",
       "    <tr>\n",
       "      <th>0</th>\n",
       "      <td>Amazon</td>\n",
       "      <td>3.8</td>\n",
       "      <td>168.8K</td>\n",
       "      <td>201.7K</td>\n",
       "      <td>201.7K</td>\n",
       "      <td>25 office locations in United States</td>\n",
       "      <td>10000+ Employees</td>\n",
       "      <td>Internet &amp; Web Services</td>\n",
       "      <td>All Amazon teams and businesses, from Prime de...</td>\n",
       "    </tr>\n",
       "    <tr>\n",
       "      <th>1</th>\n",
       "      <td>Deloitte</td>\n",
       "      <td>4.1</td>\n",
       "      <td>97.2K</td>\n",
       "      <td>167.4K</td>\n",
       "      <td>167.4K</td>\n",
       "      <td>23 office locations in United States</td>\n",
       "      <td>10000+ Employees</td>\n",
       "      <td>Accounting &amp; Tax</td>\n",
       "      <td>Think a professional services career is nothin...</td>\n",
       "    </tr>\n",
       "    <tr>\n",
       "      <th>2</th>\n",
       "      <td>Target</td>\n",
       "      <td>3.6</td>\n",
       "      <td>75K</td>\n",
       "      <td>116.1K</td>\n",
       "      <td>116.1K</td>\n",
       "      <td>4 office locations in United States</td>\n",
       "      <td>10000+ Employees</td>\n",
       "      <td>General Merchandise &amp; Superstores</td>\n",
       "      <td>Target is one of the world’s most recognized b...</td>\n",
       "    </tr>\n",
       "    <tr>\n",
       "      <th>3</th>\n",
       "      <td>McDonald's</td>\n",
       "      <td>3.5</td>\n",
       "      <td>117K</td>\n",
       "      <td>71.7K</td>\n",
       "      <td>71.7K</td>\n",
       "      <td>110 N Carpenter Street</td>\n",
       "      <td>10000+ Employees</td>\n",
       "      <td>Restaurants &amp; Cafes</td>\n",
       "      <td>McDonald’s is proud to be one of the most reco...</td>\n",
       "    </tr>\n",
       "    <tr>\n",
       "      <th>4</th>\n",
       "      <td>Accenture</td>\n",
       "      <td>4.0</td>\n",
       "      <td>145.1K</td>\n",
       "      <td>53.6K</td>\n",
       "      <td>53.6K</td>\n",
       "      <td>United States</td>\n",
       "      <td>10000+ Employees</td>\n",
       "      <td>Business Consulting</td>\n",
       "      <td>Accenture is a global professional services co...</td>\n",
       "    </tr>\n",
       "  </tbody>\n",
       "</table>\n",
       "</div>"
      ],
      "text/plain": [
       "  Company Name  Company rating Company reviews Company salaries Company Jobs  \\\n",
       "0       Amazon             3.8          168.8K           201.7K       201.7K   \n",
       "1     Deloitte             4.1           97.2K           167.4K       167.4K   \n",
       "2       Target             3.6             75K           116.1K       116.1K   \n",
       "3   McDonald's             3.5            117K            71.7K        71.7K   \n",
       "4    Accenture             4.0          145.1K            53.6K        53.6K   \n",
       "\n",
       "                               Location Number of Employees  \\\n",
       "0  25 office locations in United States    10000+ Employees   \n",
       "1  23 office locations in United States    10000+ Employees   \n",
       "2   4 office locations in United States    10000+ Employees   \n",
       "3                110 N Carpenter Street    10000+ Employees   \n",
       "4                         United States    10000+ Employees   \n",
       "\n",
       "                       Industry Type  \\\n",
       "0            Internet & Web Services   \n",
       "1                   Accounting & Tax   \n",
       "2  General Merchandise & Superstores   \n",
       "3                Restaurants & Cafes   \n",
       "4                Business Consulting   \n",
       "\n",
       "                                 Company Description  \n",
       "0  All Amazon teams and businesses, from Prime de...  \n",
       "1  Think a professional services career is nothin...  \n",
       "2  Target is one of the world’s most recognized b...  \n",
       "3  McDonald’s is proud to be one of the most reco...  \n",
       "4  Accenture is a global professional services co...  "
      ]
     },
     "execution_count": 31,
     "metadata": {},
     "output_type": "execute_result"
    }
   ],
   "source": [
    "df.head(5)"
   ]
  },
  {
   "cell_type": "code",
   "execution_count": null,
   "metadata": {},
   "outputs": [],
   "source": [
    "# fill NaN values with an empty string\n",
    "df = df.fillna('')"
   ]
  },
  {
   "cell_type": "code",
   "execution_count": 38,
   "metadata": {},
   "outputs": [
    {
     "name": "stdout",
     "output_type": "stream",
     "text": [
      "Most similar entries to entry number 7\n",
      "MSX International\n",
      "SSE\n",
      "Cognizant Softvision\n",
      "Cognizant Technology Solutions\n",
      "Tata Consultancy Services (North America)\n",
      "MetLife\n",
      "ServiceNow\n",
      "GE Power\n",
      "Bain & Company\n",
      "72andSunny\n"
     ]
    }
   ],
   "source": [
    "# concatenate the string columns\n",
    "df['all_text'] = df['Company Name'] + ' ' + df['Company reviews'] + ' ' + df['Company salaries'] + ' ' + df['Company Jobs'] + ' ' + df['Location'] + ' ' + df['Industry Type'] + ' ' + df['Company Description']\n",
    "\n",
    "vectorizer = TfidfVectorizer()\n",
    "tfidf_matrix = vectorizer.fit_transform(df['all_text'])\n",
    "\n",
    "# IBM  \n",
    "entry_index = 7 \n",
    "\n",
    "# calculate cosine similarity between the selected entry and all other entries\n",
    "cos_sim = cosine_similarity(tfidf_matrix[entry_index:entry_index+1], tfidf_matrix)\n",
    "\n",
    "# get the top 10 most similar entries\n",
    "top_10 = cos_sim[0].argsort()[-11:-1][::-1]  \n",
    "\n",
    "print(\"Most similar entries to entry number\", entry_index)\n",
    "for index in top_10:\n",
    "    print(df.iloc[index]['Company Name'])"
   ]
  },
  {
   "cell_type": "code",
   "execution_count": 39,
   "metadata": {},
   "outputs": [
    {
     "name": "stdout",
     "output_type": "stream",
     "text": [
      "Most similar entries to entry number 135\n",
      "Union Bank\n",
      "Bank of the West\n",
      "Banque Nationale du Canada/National Bank of Canada\n",
      "Standard Bank Group\n",
      "ICICI Bank\n",
      "U.S. Bank\n",
      "Axis Bank\n",
      "First Hawaiian Bank\n",
      "Commerzbank\n",
      "Natwest\n"
     ]
    }
   ],
   "source": [
    "# Credit Suisse  \n",
    "entry_index = 135 \n",
    "\n",
    "# calculate cosine similarity between the selected entry and all other entries\n",
    "cos_sim = cosine_similarity(tfidf_matrix[entry_index:entry_index+1], tfidf_matrix)\n",
    "\n",
    "# get the top 10 most similar entries\n",
    "top_10 = cos_sim[0].argsort()[-11:-1][::-1] \n",
    "\n",
    "print(\"Most similar entries to entry number\", entry_index)\n",
    "for index in top_10:\n",
    "    print(df.iloc[index]['Company Name'])"
   ]
  },
  {
   "cell_type": "code",
   "execution_count": 40,
   "metadata": {},
   "outputs": [
    {
     "name": "stdout",
     "output_type": "stream",
     "text": [
      "Most similar entries to entry number 17\n",
      "Waterworks Aquatics\n",
      "NTT Ltd.\n",
      "Nexient\n",
      "BELAY\n",
      "Manhattan Associates\n",
      "Tempo-Team\n",
      "DHL Express\n",
      "Reed\n",
      "Juniper Networks\n",
      "Quest Global\n"
     ]
    }
   ],
   "source": [
    "# US Army \n",
    "entry_index = 17 \n",
    "\n",
    "# calculate cosine similarity between the selected entry and all other entries\n",
    "cos_sim = cosine_similarity(tfidf_matrix[entry_index:entry_index+1], tfidf_matrix)\n",
    "\n",
    "# get the top 10 most similar entries\n",
    "top_10 = cos_sim[0].argsort()[-11:-1][::-1]  # we use -11:-1 to exclude the selected entry itself\n",
    "\n",
    "print(\"Most similar entries to entry number\", entry_index)\n",
    "for index in top_10:\n",
    "    print(df.iloc[index]['Company Name'])"
   ]
  }
 ],
 "metadata": {
  "kernelspec": {
   "display_name": "Python 3",
   "language": "python",
   "name": "python3"
  },
  "language_info": {
   "codemirror_mode": {
    "name": "ipython",
    "version": 3
   },
   "file_extension": ".py",
   "mimetype": "text/x-python",
   "name": "python",
   "nbconvert_exporter": "python",
   "pygments_lexer": "ipython3",
   "version": "3.11.1"
  },
  "orig_nbformat": 4
 },
 "nbformat": 4,
 "nbformat_minor": 2
}
